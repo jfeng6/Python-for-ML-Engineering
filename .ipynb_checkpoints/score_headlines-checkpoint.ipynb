{
 "cells": [
  {
   "cell_type": "code",
   "execution_count": null,
   "id": "4f288577-6efd-463e-b428-874d8fbf304f",
   "metadata": {},
   "outputs": [],
   "source": [
    "import sys\n",
    "import os\n",
    "import joblib\n",
    "import datetime\n",
    "from sentence_transformers import SentenceTransformer"
   ]
  },
  {
   "cell_type": "code",
   "execution_count": null,
   "id": "78551f82-b37c-4d03-9cbc-9f55e87e0d89",
   "metadata": {},
   "outputs": [],
   "source": [
    "def load_headlines(file_path):\n",
    "    \"\"\"Load headlines from a given file.\"\"\"\n",
    "    try:\n",
    "        with open(file_path, \"r\", encoding=\"utf-8\") as file:\n",
    "            headlines = [line.strip() for line in file if line.strip()]\n",
    "        return headlines\n",
    "    except FileNotFoundError:\n",
    "        print(f\"Error: The file '{file_path}' was not found.\")\n",
    "        sys.exit(1)\n",
    "    except Exception as e:\n",
    "        print(f\"Error: {e}\")\n",
    "        sys.exit(1)"
   ]
  },
  {
   "cell_type": "code",
   "execution_count": null,
   "id": "c3293357-1d34-4a37-9be0-44e031fa075c",
   "metadata": {},
   "outputs": [],
   "source": [
    "def vectorize_headlines(headlines, model):\n",
    "    \"\"\"Convert headlines to sentence embeddings.\"\"\"\n",
    "    return model.encode(headlines)"
   ]
  },
  {
   "cell_type": "code",
   "execution_count": null,
   "id": "2c98b8b8-b5fb-4461-8bdf-251ae27c74c4",
   "metadata": {},
   "outputs": [],
   "source": [
    "def classify_headlines(headlines, vectorizer, classifier):\n",
    "    \"\"\"Predict sentiment labels for headlines.\"\"\"\n",
    "    vectors = vectorizer.encode(headlines)\n",
    "    predictions = classifier.predict(vectors)\n",
    "    return list(zip(predictions, headlines))"
   ]
  },
  {
   "cell_type": "code",
   "execution_count": null,
   "id": "9063cad3-de9f-489e-a15a-d772cee5c584",
   "metadata": {},
   "outputs": [],
   "source": [
    "def save_results(results, source):\n",
    "    \"\"\"Save the classified headlines to an output file.\"\"\"\n",
    "    today = datetime.date.today().strftime(\"%Y_%m_%d\")\n",
    "    output_filename = f\"headline_scores_{source}_{today}.txt\"\n",
    "\n",
    "    with open(output_filename, \"w\", encoding=\"utf-8\") as file:\n",
    "        for label, headline in results:\n",
    "            file.write(f\"{label}, {headline}\\n\")\n",
    "\n",
    "    print(f\"Results saved to: {output_filename}\")"
   ]
  },
  {
   "cell_type": "code",
   "execution_count": null,
   "id": "f9bb4882-a9f8-46cc-9186-5b79ebc06f4b",
   "metadata": {},
   "outputs": [],
   "source": [
    "def main():\n",
    "    \"\"\"Main function to execute the pipeline.\"\"\"\n",
    "    if len(sys.argv) != 3:\n",
    "        print(\"Usage: python score_headlines.py <headlines_file> <source>\")\n",
    "        sys.exit(1)\n",
    "\n",
    "    headlines_file = sys.argv[1]\n",
    "    source = sys.argv[2]\n",
    "\n",
    "    # Load the trained model and vectorizer\n",
    "    classifier = joblib.load(\"svm.joblib\")\n",
    "    vectorizer = SentenceTransformer(\"all-MiniLM-L6-v2\")\n",
    "\n",
    "    # Load and process headlines\n",
    "    headlines = load_headlines(headlines_file)\n",
    "    results = classify_headlines(headlines, vectorizer, classifier)\n",
    "\n",
    "    # Save the results\n",
    "    save_results(results, source)"
   ]
  },
  {
   "cell_type": "code",
   "execution_count": null,
   "id": "3a42f927-c8fc-40f3-b100-54269abf5991",
   "metadata": {},
   "outputs": [],
   "source": [
    "if __name__ == \"__main__\":\n",
    "    main()"
   ]
  }
 ],
 "metadata": {
  "kernelspec": {
   "display_name": "Python 3 (ipykernel)",
   "language": "python",
   "name": "python3"
  },
  "language_info": {
   "codemirror_mode": {
    "name": "ipython",
    "version": 3
   },
   "file_extension": ".py",
   "mimetype": "text/x-python",
   "name": "python",
   "nbconvert_exporter": "python",
   "pygments_lexer": "ipython3",
   "version": "3.10.16"
  }
 },
 "nbformat": 4,
 "nbformat_minor": 5
}
