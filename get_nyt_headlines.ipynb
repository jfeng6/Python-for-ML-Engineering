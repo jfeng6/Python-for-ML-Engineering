{
 "cells": [
  {
   "cell_type": "markdown",
   "id": "da283a2e-c95a-4700-abac-b21b5f7e6021",
   "metadata": {},
   "source": [
    "# Scrape NYT"
   ]
  },
  {
   "cell_type": "markdown",
   "id": "4a8ed946-9020-4485-b57a-89b03a5ba9fd",
   "metadata": {},
   "source": [
    "### Sample HTML tag"
   ]
  },
  {
   "cell_type": "markdown",
   "id": "f059ff79-9ded-458f-86a9-ef76a8a51d7c",
   "metadata": {},
   "source": [
    "```html\n",
    "<section class=\"story-wrapper\"><a class=\"css-9mylee\" href=\"https://www.nytimes.com/2024/12/01/us/politics/biden-hunter-pardon-politics.html\" data-uri=\"nyt://article/dffb88f6-058f-5e6f-8a61-6b4c08e420e4\" aria-hidden=\"false\"><div><div class=\"css-xdandi\"><div class=\"css-1a3ibh4\"><p class=\"css-tdd4a3\"><span class=\"css-wt2ynm\">Analysis</span></p></div><p class=\"indicate-hover css-91bpc3\">In Pardoning His Son, Biden Echoes Some of Trump’s Complaints</p></div><p class=\"summary-class css-1l5zmz6\">President Biden and President-elect Trump now agree on one thing: The Biden Justice Department has been politicized.</p><div class=\"css-1tic89u\"><div><p class=\"css-1a0ymrn\" data-ttr=\"1\">7 min read</p></div></div></div></a></section>\n",
    "```"
   ]
  },
  {
   "cell_type": "markdown",
   "id": "7dd03908-a216-4c39-a803-78d548320362",
   "metadata": {},
   "source": [
    "Notice that we need to extract the headline, as well as the summary"
   ]
  },
  {
   "cell_type": "markdown",
   "id": "a37cc2ef-ccd3-4a9c-bf23-97498a5dc4aa",
   "metadata": {},
   "source": [
    "### Code\n",
    "(you may have to install BeautifulSoup)"
   ]
  },
  {
   "cell_type": "code",
   "execution_count": 3,
   "id": "1c44fda1-907a-4823-8b1f-b0590f55b3f0",
   "metadata": {},
   "outputs": [
    {
     "name": "stdout",
     "output_type": "stream",
     "text": [
      "Requirement already satisfied: BeautifulSoup4 in c:\\users\\zfeng6\\anaconda3\\lib\\site-packages (4.11.1)\n",
      "Requirement already satisfied: soupsieve>1.2 in c:\\users\\zfeng6\\anaconda3\\lib\\site-packages (from BeautifulSoup4) (2.3.2.post1)\n",
      "Note: you may need to restart the kernel to use updated packages.\n"
     ]
    }
   ],
   "source": [
    "pip install BeautifulSoup4"
   ]
  },
  {
   "cell_type": "code",
   "execution_count": 4,
   "id": "c426c27c-6fa5-44a9-b27b-1a807e48a413",
   "metadata": {},
   "outputs": [],
   "source": [
    "from bs4 import BeautifulSoup"
   ]
  },
  {
   "cell_type": "code",
   "execution_count": 5,
   "id": "6c6af93e-7949-4929-873d-f6237403ee30",
   "metadata": {},
   "outputs": [],
   "source": [
    "html_element = \"\"\"<section class=\"story-wrapper\"><a class=\"css-9mylee\" href=\"https://www.nytimes.com/2024/12/01/us/politics/biden-hunter-pardon-politics.html\" data-uri=\"nyt://article/dffb88f6-058f-5e6f-8a61-6b4c08e420e4\" aria-hidden=\"false\"><div><div class=\"css-xdandi\"><div class=\"css-1a3ibh4\"><p class=\"css-tdd4a3\"><span class=\"css-wt2ynm\">Analysis</span></p></div><p class=\"indicate-hover css-91bpc3\">In Pardoning His Son, Biden Echoes Some of Trump’s Complaints</p></div><p class=\"summary-class css-1l5zmz6\">President Biden and President-elect Trump now agree on one thing: The Biden Justice Department has been politicized.</p><div class=\"css-1tic89u\"><div><p class=\"css-1a0ymrn\" data-ttr=\"1\">7 min read</p></div></div></div></a></section>\"\"\""
   ]
  },
  {
   "cell_type": "code",
   "execution_count": 6,
   "id": "0f9a6109-35f7-431b-8bc1-7a5783bbeda2",
   "metadata": {},
   "outputs": [],
   "source": [
    "soup = BeautifulSoup(html_element, 'html.parser')"
   ]
  },
  {
   "cell_type": "code",
   "execution_count": 7,
   "id": "da125fcd-35a0-42f5-b942-1b04df214fc0",
   "metadata": {},
   "outputs": [
    {
     "data": {
      "text/plain": [
       "(<p class=\"indicate-hover css-91bpc3\">In Pardoning His Son, Biden Echoes Some of Trump’s Complaints</p>,\n",
       " <p class=\"summary-class css-1l5zmz6\">President Biden and President-elect Trump now agree on one thing: The Biden Justice Department has been politicized.</p>)"
      ]
     },
     "execution_count": 7,
     "metadata": {},
     "output_type": "execute_result"
    }
   ],
   "source": [
    "headline1 = soup.find('section', class_='story-wrapper')\n",
    "headline1.find_all('p')[1], headline1.find_all('p')[2]"
   ]
  },
  {
   "cell_type": "code",
   "execution_count": 8,
   "id": "0c8ec4ae-a642-4f7f-89b2-1e8a92dfc97c",
   "metadata": {},
   "outputs": [
    {
     "data": {
      "text/plain": [
       "'In Pardoning His Son, Biden Echoes Some of Trump’s Complaints. President Biden and President-elect Trump now agree on one thing: The Biden Justice Department has been politicized.'"
      ]
     },
     "execution_count": 8,
     "metadata": {},
     "output_type": "execute_result"
    }
   ],
   "source": [
    "title_and_summary_tag = headline1.find_all('p')\n",
    "title = title_and_summary_tag[1].text\n",
    "summary = title_and_summary_tag[2].text\n",
    "\n",
    "title_and_summary = title + \". \" + summary\n",
    "title_and_summary"
   ]
  },
  {
   "cell_type": "code",
   "execution_count": 9,
   "id": "7c7df5f3-d86d-4464-81ff-29be31d9a2a9",
   "metadata": {},
   "outputs": [],
   "source": [
    "def get_text(html_element):\n",
    "    title_and_summary_tag = html_element.find_all('p')\n",
    "\n",
    "    if len(title_and_summary_tag) == 0: return None\n",
    "    \n",
    "    if len(title_and_summary_tag) < 2: # This function is not very robust :(\n",
    "        return title_and_summary_tag[0].text\n",
    "        \n",
    "    title   = title_and_summary_tag[0].text\n",
    "    summary = title_and_summary_tag[1].text\n",
    "    \n",
    "    title_and_summary = title + \". \" + summary\n",
    "    title_and_summary\n",
    "\n",
    "    return title_and_summary"
   ]
  },
  {
   "cell_type": "code",
   "execution_count": 10,
   "id": "1ef925a2-d6ab-4102-98dd-393d607addc4",
   "metadata": {},
   "outputs": [
    {
     "data": {
      "text/plain": [
       "'Analysis. In Pardoning His Son, Biden Echoes Some of Trump’s Complaints'"
      ]
     },
     "execution_count": 10,
     "metadata": {},
     "output_type": "execute_result"
    }
   ],
   "source": [
    "get_text(headline1)"
   ]
  },
  {
   "cell_type": "markdown",
   "id": "1cd533a0-d10e-433d-bd83-6a824e32818e",
   "metadata": {},
   "source": [
    "### Find ALL headlines"
   ]
  },
  {
   "cell_type": "markdown",
   "id": "776a24d8-3a77-43ae-8387-e28b0f4663b7",
   "metadata": {},
   "source": [
    "First, we download the front-page"
   ]
  },
  {
   "cell_type": "code",
   "execution_count": 11,
   "id": "9f99d738-68f0-4962-aed5-e9127f4f5ab1",
   "metadata": {},
   "outputs": [],
   "source": [
    "import requests"
   ]
  },
  {
   "cell_type": "code",
   "execution_count": 12,
   "id": "3a4dc7e1-2ebd-458b-b4ff-6235304f2933",
   "metadata": {},
   "outputs": [
    {
     "name": "stdout",
     "output_type": "stream",
     "text": [
      "CPU times: total: 0 ns\n",
      "Wall time: 136 ms\n"
     ]
    }
   ],
   "source": [
    "%%time\n",
    "response = requests.get('https://www.nytimes.com/')"
   ]
  },
  {
   "cell_type": "code",
   "execution_count": 13,
   "id": "b7d4c7b1-39fc-4669-a648-d689c44759c4",
   "metadata": {},
   "outputs": [
    {
     "data": {
      "text/plain": [
       "<Response [200]>"
      ]
     },
     "execution_count": 13,
     "metadata": {},
     "output_type": "execute_result"
    }
   ],
   "source": [
    "response"
   ]
  },
  {
   "cell_type": "code",
   "execution_count": 14,
   "id": "4c089142-47f7-41d2-8e79-6aee9ca57c24",
   "metadata": {},
   "outputs": [
    {
     "name": "stdout",
     "output_type": "stream",
     "text": [
      "<!DOCTYPE html>\n",
      "<html lang=\"en\" class=\" nytapp-vi-homepage \"  xmlns:og=\"http://opengraphprotocol.org/schema/\">\n",
      "  <head>\n",
      "    <script>!function(t,e){\"object\"==typeof exports&&\"object\"==typeof module?module.exports=e():\"function\"==typeof define&&define.amd?define([],e):\"object\"==typeof exports?exports.Statsig=e():t.Statsig=e()}(this,()=>(()=>{\"use strict\";var $Q=(e)=>Object.defineProperty(e,\"__esModule\",{value:!0});var $Q2=(a,b,c)=>Object.defineProperty(a,b,c);var $P=(a,b)=>Object.assign(a,b);var $\n"
     ]
    }
   ],
   "source": [
    "print(response.text[:500])"
   ]
  },
  {
   "cell_type": "code",
   "execution_count": 15,
   "id": "7f73c302-10aa-4021-9851-4588f33e181b",
   "metadata": {},
   "outputs": [],
   "source": [
    "html = BeautifulSoup(response.text)"
   ]
  },
  {
   "cell_type": "code",
   "execution_count": 16,
   "id": "e418f005-e44a-475b-82fa-2a6fd4c60add",
   "metadata": {},
   "outputs": [
    {
     "data": {
      "text/plain": [
       "[<section class=\"story-wrapper\"><a aria-hidden=\"false\" class=\"css-9mylee\" data-uri=\"nyt://article/130c5216-eb36-53fc-ba9b-0df51a295574\" href=\"https://www.nytimes.com/2025/01/16/nyregion/eric-adams-trump-mar-a-lago.html\"><div class=\"css-xdandi\"><div class=\"css-1a3ibh4\"><p class=\"css-ae0yjg\"><span class=\"css-12tlih8\">BREAKING</span></p></div><p class=\"indicate-hover css-1gg6cw2\">Eric Adams Heads to Mar-a-Lago to Meet With Trump</p></div><p class=\"summary-class css-ofqxyv\">The New York mayor, who is under federal indictment, has spoken warmly about President-elect Trump and has said he is open to receiving a pardon from him.</p><div class=\"css-1tic89u\"><div><p class=\"css-1a0ymrn\" data-ttr=\"1\">2 min read</p></div></div></a></section>,\n",
       " <section class=\"story-wrapper\"><a aria-hidden=\"false\" class=\"css-9mylee\" data-uri=\"nyt://legacycollection/425abb77-2cf6-5747-bf85-3a6594756b43\" href=\"https://www.nytimes.com/live/2025/01/16/us/trump-news-hearings\"><div class=\"css-xdandi\"><div class=\"css-1a3ibh4\"><p class=\"css-ae0yjg\"><span class=\"css-12tlih8\">LIVE</span></p><span class=\"css-1ufpbe9\"><time class=\"css-16lxk39\" datetime=\"2025-01-17T00:32:57.311Z\"><div class=\"css-ki347z\"><span aria-hidden=\"true\" class=\"css-1stvlmo\" data-time=\"abs\">Jan. 16, 2025, 7:32 p.m. ET</span><span class=\"css-kpxlkr\" data-time=\"rel\"></span></div></time></span></div><p class=\"indicate-hover css-91bpc3\">Trump’s Picks Are Quizzed on Tax Cuts, Tariffs and Fossil Fuels</p></div><p class=\"summary-class css-1l5zmz6\">Today’s hearings for Donald Trump’s cabinet picks included interior secretary, housing secretary and Environmental Protection Agency administrator.</p><p class=\"css-ih99h\"> </p></a></section>,\n",
       " <section class=\"story-wrapper\"><a aria-hidden=\"false\" class=\"css-9mylee\" data-uri=\"nyt://article/8cfdb0a8-9931-5902-9bed-6620bc046ffd\" href=\"https://www.nytimes.com/2025/01/16/us/doge-trump-watchdogs.html\"><div class=\"css-xdandi\"><p class=\"indicate-hover css-1a5fuvt\">Two Watchdogs Were Rebuffed From Joining Trump’s Cost-Cutting Effort</p></div><div class=\"css-1tic89u\"><div><p class=\"css-1a0ymrn\" data-ttr=\"1\">2 min read</p></div></div></a></section>,\n",
       " <section class=\"story-wrapper\"><a aria-hidden=\"false\" class=\"css-9mylee\" data-uri=\"nyt://article/fb0bc627-a315-50d7-a77f-d3a730271594\" href=\"https://www.nytimes.com/2025/01/16/us/democrats-gun-control-trump.html\"><div class=\"css-xdandi\"><p class=\"indicate-hover css-1a5fuvt\">State Attorneys General Ask Courts to Preserve Biden-era Gun Control Measures</p></div><div class=\"css-1tic89u\"><div><p class=\"css-1a0ymrn\" data-ttr=\"1\">3 min read</p></div></div></a></section>,\n",
       " <section class=\"story-wrapper\"><a aria-hidden=\"false\" class=\"css-9mylee\" data-uri=\"nyt://article/c133eabb-fad4-5f11-8541-4d4578b1fe25\" href=\"https://www.nytimes.com/2025/01/16/us/politics/rick-crawford-house-intelligence.html\"><div class=\"css-xdandi\"><p class=\"indicate-hover css-91bpc3\">Johnson Installs Crawford on Intelligence Panel, Pulling It Closer to Trump</p></div><p class=\"summary-class css-1l5zmz6\">Speaker Mike Johnson appointed Representative Rick Crawford, replacing a Republican who had criticized President-elect Trump and broken with him on key issues.</p><div class=\"css-1tic89u\"><div><p class=\"css-1a0ymrn\" data-ttr=\"1\">4 min read</p></div></div></a></section>]"
      ]
     },
     "execution_count": 16,
     "metadata": {},
     "output_type": "execute_result"
    }
   ],
   "source": [
    "html.find_all(class_=\"story-wrapper\")[:5]"
   ]
  },
  {
   "cell_type": "markdown",
   "id": "97f6bbec-02f8-4192-8e7a-8f385e63ecba",
   "metadata": {},
   "source": [
    "### Extract headlines"
   ]
  },
  {
   "cell_type": "code",
   "execution_count": 17,
   "id": "75043c72-c7d8-4ce3-a25a-78505c5d7c36",
   "metadata": {},
   "outputs": [
    {
     "data": {
      "text/plain": [
       "<section class=\"story-wrapper\"><a aria-hidden=\"false\" class=\"css-9mylee\" data-uri=\"nyt://article/130c5216-eb36-53fc-ba9b-0df51a295574\" href=\"https://www.nytimes.com/2025/01/16/nyregion/eric-adams-trump-mar-a-lago.html\"><div class=\"css-xdandi\"><div class=\"css-1a3ibh4\"><p class=\"css-ae0yjg\"><span class=\"css-12tlih8\">BREAKING</span></p></div><p class=\"indicate-hover css-1gg6cw2\">Eric Adams Heads to Mar-a-Lago to Meet With Trump</p></div><p class=\"summary-class css-ofqxyv\">The New York mayor, who is under federal indictment, has spoken warmly about President-elect Trump and has said he is open to receiving a pardon from him.</p><div class=\"css-1tic89u\"><div><p class=\"css-1a0ymrn\" data-ttr=\"1\">2 min read</p></div></div></a></section>"
      ]
     },
     "execution_count": 17,
     "metadata": {},
     "output_type": "execute_result"
    }
   ],
   "source": [
    "html.find_all(class_=\"story-wrapper\")[0]"
   ]
  },
  {
   "cell_type": "code",
   "execution_count": 18,
   "id": "85e495ab-2ff8-4239-a2f7-2f554f4a14be",
   "metadata": {},
   "outputs": [
    {
     "data": {
      "text/plain": [
       "[<p class=\"css-ae0yjg\"><span class=\"css-12tlih8\">BREAKING</span></p>,\n",
       " <p class=\"indicate-hover css-1gg6cw2\">Eric Adams Heads to Mar-a-Lago to Meet With Trump</p>,\n",
       " <p class=\"summary-class css-ofqxyv\">The New York mayor, who is under federal indictment, has spoken warmly about President-elect Trump and has said he is open to receiving a pardon from him.</p>,\n",
       " <p class=\"css-1a0ymrn\" data-ttr=\"1\">2 min read</p>]"
      ]
     },
     "execution_count": 18,
     "metadata": {},
     "output_type": "execute_result"
    }
   ],
   "source": [
    "html.find_all(class_=\"story-wrapper\")[0].find_all('p')"
   ]
  },
  {
   "cell_type": "code",
   "execution_count": 19,
   "id": "3ff6f182-953d-42b9-b77f-6200349e4a10",
   "metadata": {},
   "outputs": [
    {
     "name": "stdout",
     "output_type": "stream",
     "text": [
      "BREAKING. Eric Adams Heads to Mar-a-Lago to Meet With Trump\n",
      "LIVE. Trump’s Picks Are Quizzed on Tax Cuts, Tariffs and Fossil Fuels\n",
      "Two Watchdogs Were Rebuffed From Joining Trump’s Cost-Cutting Effort. 2 min read\n",
      "State Attorneys General Ask Courts to Preserve Biden-era Gun Control Measures. 3 min read\n",
      "Johnson Installs Crawford on Intelligence Panel, Pulling It Closer to Trump. Speaker Mike Johnson appointed Representative Rick Crawford, replacing a Republican who had criticized President-elect Trump and broken with him on key issues.\n",
      "Trump Picks a Jet-Setting Pal of Elon Musk to Go Get Greenland. 6 min read\n",
      "A First-Day Trump Order: A Federal Stockpile of Bitcoin?. 5 min read\n",
      "Stephen Miller, Channeling Trump, Has Built More Power Than Ever. Stephen Miller was the architect of Donald Trump’s hard-line immigration agenda in his first term. Now he is back with fewer rivals and more influence.\n",
      "Stephen Miller, Channeling Trump, Has Built More Power Than Ever. Stephen Miller was the architect of Donald Trump’s hard-line immigration agenda in his first term. Now he is back with fewer rivals and more influence.\n",
      "Biden Tightens Cybersecurity Rules, Forcing Trump to Make a Choice. The executive order accelerates the move to mandatory compliance by software providers. It may run afoul of President-elect Trump’s mandate to deregulate.\n",
      "With a Series of Actions, Biden Races to Cement His Legacy. 3 min read\n",
      "Biden Administration Creates Final Limits for Oil Drillers in Alaska. 2 min read\n",
      "Biden Administration Withdraws Proposal to Expand Protections for Rare Whales. 2 min read\n",
      "Israeli Vote on Cease-Fire Is Delayed as Diplomats Work on Details. Even though negotiators for Israel and Hamas reached a provisional deal for a truce, they continued to discuss outstanding issues through mediators.\n",
      "Benjamin Netanyahu Faces a Political Crisis Over the Gaza Cease-Fire Deal. With his far-right coalition partners opposing an end to the war and threatening to quit, the Israeli prime minister may have to choose: them or the agreement.\n"
     ]
    }
   ],
   "source": [
    "for e in html.find_all(class_=\"story-wrapper\")[:15]:\n",
    "    #print(e)\n",
    "    print(get_text(e))"
   ]
  },
  {
   "cell_type": "code",
   "execution_count": 20,
   "id": "982af19a-a5a7-4ded-a6a5-07dcf7e8018d",
   "metadata": {},
   "outputs": [],
   "source": [
    "headlines = [get_text(headline) for headline in html.find_all(class_=\"story-wrapper\")]"
   ]
  },
  {
   "cell_type": "code",
   "execution_count": 21,
   "id": "74e83048-cbdb-40cf-8bcb-a2c455f663c9",
   "metadata": {},
   "outputs": [
    {
     "data": {
      "text/plain": [
       "['BREAKING. Eric Adams Heads to Mar-a-Lago to Meet With Trump',\n",
       " 'LIVE. Trump’s Picks Are Quizzed on Tax Cuts, Tariffs and Fossil Fuels',\n",
       " 'Two Watchdogs Were Rebuffed From Joining Trump’s Cost-Cutting Effort. 2 min read',\n",
       " 'State Attorneys General Ask Courts to Preserve Biden-era Gun Control Measures. 3 min read',\n",
       " 'Johnson Installs Crawford on Intelligence Panel, Pulling It Closer to Trump. Speaker Mike Johnson appointed Representative Rick Crawford, replacing a Republican who had criticized President-elect Trump and broken with him on key issues.']"
      ]
     },
     "execution_count": 21,
     "metadata": {},
     "output_type": "execute_result"
    }
   ],
   "source": [
    "headlines[:5]"
   ]
  },
  {
   "cell_type": "code",
   "execution_count": 22,
   "id": "732ed155-39bc-4cf5-b29a-e4e87650a63c",
   "metadata": {},
   "outputs": [
    {
     "data": {
      "text/plain": [
       "123"
      ]
     },
     "execution_count": 22,
     "metadata": {},
     "output_type": "execute_result"
    }
   ],
   "source": [
    "len(headlines)"
   ]
  },
  {
   "cell_type": "markdown",
   "id": "69b380bc-83af-4483-9ad6-00f09abd64ab",
   "metadata": {},
   "source": [
    "### Write headlines to file"
   ]
  },
  {
   "cell_type": "markdown",
   "id": "54eeccab-8552-4a90-9c08-c4d7b68cc106",
   "metadata": {},
   "source": [
    "#### Create the filename"
   ]
  },
  {
   "cell_type": "code",
   "execution_count": 23,
   "id": "c661cc4d-1981-4d19-ada1-1eb6fbf5912f",
   "metadata": {},
   "outputs": [],
   "source": [
    "import datetime"
   ]
  },
  {
   "cell_type": "code",
   "execution_count": 24,
   "id": "c89c4581-3115-4c89-acb0-6606de79ee5c",
   "metadata": {},
   "outputs": [
    {
     "data": {
      "text/plain": [
       "datetime.datetime(2025, 1, 16, 16, 41, 28, 359394)"
      ]
     },
     "execution_count": 24,
     "metadata": {},
     "output_type": "execute_result"
    }
   ],
   "source": [
    "datetime.datetime.today()"
   ]
  },
  {
   "cell_type": "code",
   "execution_count": 25,
   "id": "f87311ab-97b7-4136-89f2-1bee2b913abc",
   "metadata": {},
   "outputs": [
    {
     "data": {
      "text/plain": [
       "'2025-01-16'"
      ]
     },
     "execution_count": 25,
     "metadata": {},
     "output_type": "execute_result"
    }
   ],
   "source": [
    "datetime.datetime.today().strftime('%Y-%m-%d')"
   ]
  },
  {
   "cell_type": "code",
   "execution_count": 26,
   "id": "835b6aef-ecd6-4e32-a174-98129b73ed20",
   "metadata": {},
   "outputs": [],
   "source": [
    "TODAY = datetime.datetime.today().strftime('%Y-%m-%d')"
   ]
  },
  {
   "cell_type": "code",
   "execution_count": 27,
   "id": "1c719f4d-5713-4083-a724-f562dec005a8",
   "metadata": {},
   "outputs": [
    {
     "data": {
      "text/plain": [
       "'2025-01-16'"
      ]
     },
     "execution_count": 27,
     "metadata": {},
     "output_type": "execute_result"
    }
   ],
   "source": [
    "TODAY"
   ]
  },
  {
   "cell_type": "code",
   "execution_count": 28,
   "id": "b953afae-aba6-4f29-b2ec-f6509d9aaf7c",
   "metadata": {},
   "outputs": [
    {
     "data": {
      "text/plain": [
       "'headlines_nyt_2025-01-16.txt'"
      ]
     },
     "execution_count": 28,
     "metadata": {},
     "output_type": "execute_result"
    }
   ],
   "source": [
    "filename = f\"headlines_nyt_{TODAY}.txt\"\n",
    "filename"
   ]
  },
  {
   "cell_type": "code",
   "execution_count": 29,
   "id": "d0126d94-1c3e-4e32-a0fc-9c6b8d4eb92f",
   "metadata": {},
   "outputs": [],
   "source": [
    "with open(filename, 'w', encoding='utf-8') as output_file:\n",
    "    for headline in headlines:\n",
    "        if headline is None: continue\n",
    "        output_file.write(headline + '\\n')"
   ]
  },
  {
   "cell_type": "code",
   "execution_count": null,
   "id": "72aeeb0c-c737-4ebd-9711-057bb8568efa",
   "metadata": {},
   "outputs": [],
   "source": []
  },
  {
   "cell_type": "code",
   "execution_count": null,
   "id": "fae5d21a-0622-4ee7-83ae-b9fa133ef9a0",
   "metadata": {},
   "outputs": [],
   "source": []
  }
 ],
 "metadata": {
  "kernelspec": {
   "display_name": "Python 3 (ipykernel)",
   "language": "python",
   "name": "python3"
  },
  "language_info": {
   "codemirror_mode": {
    "name": "ipython",
    "version": 3
   },
   "file_extension": ".py",
   "mimetype": "text/x-python",
   "name": "python",
   "nbconvert_exporter": "python",
   "pygments_lexer": "ipython3",
   "version": "3.10.9"
  }
 },
 "nbformat": 4,
 "nbformat_minor": 5
}
