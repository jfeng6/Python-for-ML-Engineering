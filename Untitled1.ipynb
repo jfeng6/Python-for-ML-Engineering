{
 "cells": [
  {
   "cell_type": "markdown",
   "id": "d262a6f6-38a4-4b99-a336-a46aad38575e",
   "metadata": {},
   "source": [
    "# Sentiment model"
   ]
  },
  {
   "cell_type": "code",
   "execution_count": null,
   "id": "0a9ab614-3a7f-4b2d-bdbb-53e894389245",
   "metadata": {},
   "outputs": [],
   "source": [
    "# conda create --name nlp python=3.10\n",
    "# pip install -U sentence-transformers\n",
    "# python -m ipykernel install --user name=nlp"
   ]
  },
  {
   "cell_type": "code",
   "execution_count": 1,
   "id": "832e48e6-600c-4af7-b1b3-04fa66a57dad",
   "metadata": {},
   "outputs": [],
   "source": [
    "import numpy as np\n",
    "from sentence_transformers import SentenceTransformer"
   ]
  },
  {
   "cell_type": "markdown",
   "id": "e10dbfe7-47b4-4255-88f8-b247e4855b35",
   "metadata": {},
   "source": [
    "### Read headlines"
   ]
  },
  {
   "cell_type": "code",
   "execution_count": 2,
   "id": "a6024bef-1085-4e7b-b70d-449c2936e521",
   "metadata": {},
   "outputs": [
    {
     "name": "stdout",
     "output_type": "stream",
     "text": [
      "['Walgreens closing five stores on South, West sides of Chicago\\n', 'Cubs Convention 2025: What to know about this weekendâ€™s fan fest â€” including Sammy Sosaâ€™s return\\n', '2024 Readersâ€™ Choice Food Awards: Itâ€™s time to nominate your favorite food spots from across Chicagoland\\n', 'Asking-Eric\\n', 'Today-in-History\\n']\n"
     ]
    }
   ],
   "source": [
    "with open('headlines_chicagotribune_2025-01-16.txt', 'r') as file:\n",
    "    headlines = file.readlines()\n",
    "    print(headlines[:5])"
   ]
  },
  {
   "cell_type": "markdown",
   "id": "808a1b3b-fa70-4b64-a034-c8400aa61bca",
   "metadata": {},
   "source": [
    "### Score headlines"
   ]
  },
  {
   "cell_type": "code",
   "execution_count": 3,
   "id": "8999e2fe-62f8-45dd-8015-aefe68393af7",
   "metadata": {},
   "outputs": [
    {
     "data": {
      "application/vnd.jupyter.widget-view+json": {
       "model_id": "34084d2f19394258bdc7fb06f6731423",
       "version_major": 2,
       "version_minor": 0
      },
      "text/plain": [
       "modules.json:   0%|          | 0.00/349 [00:00<?, ?B/s]"
      ]
     },
     "metadata": {},
     "output_type": "display_data"
    },
    {
     "name": "stderr",
     "output_type": "stream",
     "text": [
      "C:\\Users\\zfeng6\\anaconda3\\envs\\nlp\\lib\\site-packages\\huggingface_hub\\file_download.py:140: UserWarning: `huggingface_hub` cache-system uses symlinks by default to efficiently store duplicated files but your machine does not support them in C:\\Users\\zfeng6\\.cache\\huggingface\\hub\\models--sentence-transformers--all-MiniLM-L6-v2. Caching files will still work but in a degraded version that might require more space on your disk. This warning can be disabled by setting the `HF_HUB_DISABLE_SYMLINKS_WARNING` environment variable. For more details, see https://huggingface.co/docs/huggingface_hub/how-to-cache#limitations.\n",
      "To support symlinks on Windows, you either need to activate Developer Mode or to run Python as an administrator. In order to activate developer mode, see this article: https://docs.microsoft.com/en-us/windows/apps/get-started/enable-your-device-for-development\n",
      "  warnings.warn(message)\n"
     ]
    },
    {
     "data": {
      "application/vnd.jupyter.widget-view+json": {
       "model_id": "3916fbc5e8144566b3863ddde575e790",
       "version_major": 2,
       "version_minor": 0
      },
      "text/plain": [
       "config_sentence_transformers.json:   0%|          | 0.00/116 [00:00<?, ?B/s]"
      ]
     },
     "metadata": {},
     "output_type": "display_data"
    },
    {
     "data": {
      "application/vnd.jupyter.widget-view+json": {
       "model_id": "995885b4ab5e4af28c88447ce7b72576",
       "version_major": 2,
       "version_minor": 0
      },
      "text/plain": [
       "README.md:   0%|          | 0.00/10.7k [00:00<?, ?B/s]"
      ]
     },
     "metadata": {},
     "output_type": "display_data"
    },
    {
     "data": {
      "application/vnd.jupyter.widget-view+json": {
       "model_id": "0a193457ec5348c7bda35dd2015986b9",
       "version_major": 2,
       "version_minor": 0
      },
      "text/plain": [
       "sentence_bert_config.json:   0%|          | 0.00/53.0 [00:00<?, ?B/s]"
      ]
     },
     "metadata": {},
     "output_type": "display_data"
    },
    {
     "data": {
      "application/vnd.jupyter.widget-view+json": {
       "model_id": "ffc42a72b8744df9bf6734b263a53f15",
       "version_major": 2,
       "version_minor": 0
      },
      "text/plain": [
       "config.json:   0%|          | 0.00/612 [00:00<?, ?B/s]"
      ]
     },
     "metadata": {},
     "output_type": "display_data"
    },
    {
     "data": {
      "application/vnd.jupyter.widget-view+json": {
       "model_id": "ba340946e0be49219a12700b83aa6313",
       "version_major": 2,
       "version_minor": 0
      },
      "text/plain": [
       "model.safetensors:   0%|          | 0.00/90.9M [00:00<?, ?B/s]"
      ]
     },
     "metadata": {},
     "output_type": "display_data"
    },
    {
     "data": {
      "application/vnd.jupyter.widget-view+json": {
       "model_id": "4f09adef7a9e4f75b805182ae2d554f4",
       "version_major": 2,
       "version_minor": 0
      },
      "text/plain": [
       "tokenizer_config.json:   0%|          | 0.00/350 [00:00<?, ?B/s]"
      ]
     },
     "metadata": {},
     "output_type": "display_data"
    },
    {
     "data": {
      "application/vnd.jupyter.widget-view+json": {
       "model_id": "2e20f69592014d0498b21d3c1cfbe38c",
       "version_major": 2,
       "version_minor": 0
      },
      "text/plain": [
       "vocab.txt:   0%|          | 0.00/232k [00:00<?, ?B/s]"
      ]
     },
     "metadata": {},
     "output_type": "display_data"
    },
    {
     "data": {
      "application/vnd.jupyter.widget-view+json": {
       "model_id": "f57c02debcc3434c9236ec2e116e78ad",
       "version_major": 2,
       "version_minor": 0
      },
      "text/plain": [
       "tokenizer.json:   0%|          | 0.00/466k [00:00<?, ?B/s]"
      ]
     },
     "metadata": {},
     "output_type": "display_data"
    },
    {
     "data": {
      "application/vnd.jupyter.widget-view+json": {
       "model_id": "39eefb1e0e7447b79b8822c84ba49652",
       "version_major": 2,
       "version_minor": 0
      },
      "text/plain": [
       "special_tokens_map.json:   0%|          | 0.00/112 [00:00<?, ?B/s]"
      ]
     },
     "metadata": {},
     "output_type": "display_data"
    },
    {
     "data": {
      "application/vnd.jupyter.widget-view+json": {
       "model_id": "482899311872469e99c7e76cdbbb06f5",
       "version_major": 2,
       "version_minor": 0
      },
      "text/plain": [
       "1_Pooling/config.json:   0%|          | 0.00/190 [00:00<?, ?B/s]"
      ]
     },
     "metadata": {},
     "output_type": "display_data"
    },
    {
     "name": "stdout",
     "output_type": "stream",
     "text": [
      "CPU times: total: 234 ms\n",
      "Wall time: 5.19 s\n"
     ]
    }
   ],
   "source": [
    "%%time\n",
    "model = SentenceTransformer(\"all-MiniLM-L6-v2\")"
   ]
  },
  {
   "cell_type": "code",
   "execution_count": 4,
   "id": "c71f7cc9-52c6-42bb-96c1-45a65f9f2ede",
   "metadata": {},
   "outputs": [
    {
     "name": "stdout",
     "output_type": "stream",
     "text": [
      "CPU times: total: 516 ms\n",
      "Wall time: 217 ms\n"
     ]
    }
   ],
   "source": [
    "%%time\n",
    "embeddings = model.encode(headlines)"
   ]
  },
  {
   "cell_type": "code",
   "execution_count": 5,
   "id": "0c78fce9-1c7e-4e83-81c9-a36734bfbdc7",
   "metadata": {},
   "outputs": [
    {
     "data": {
      "text/plain": [
       "(90, 384)"
      ]
     },
     "execution_count": 5,
     "metadata": {},
     "output_type": "execute_result"
    }
   ],
   "source": [
    "embeddings.shape"
   ]
  },
  {
   "cell_type": "code",
   "execution_count": 6,
   "id": "bf58c5ac-1ad4-4aff-a213-f6900e816af4",
   "metadata": {},
   "outputs": [
    {
     "data": {
      "text/plain": [
       "array([ 0.04223976, -0.007027  ,  0.02167966, -0.00217642,  0.01259647,\n",
       "        0.04183022, -0.04878853, -0.01153169, -0.01722976, -0.01249918,\n",
       "        0.05690446,  0.09139134, -0.09212825, -0.06121165,  0.02016802,\n",
       "       -0.00977038, -0.04343382, -0.02578579, -0.00655579, -0.03712472,\n",
       "       -0.03607873, -0.04347982, -0.01179853,  0.01066452, -0.11021244,\n",
       "        0.00236968, -0.01677253, -0.04151335,  0.01010052, -0.0213984 ,\n",
       "        0.01149713, -0.00721527, -0.00283853, -0.01322439,  0.05469711,\n",
       "        0.02252053,  0.01196933,  0.02441401,  0.0856569 ,  0.04342528,\n",
       "        0.08133547,  0.03911676, -0.09127151,  0.03819299, -0.00469335,\n",
       "       -0.05805153, -0.04345457,  0.03323093,  0.05536553,  0.06549525],\n",
       "      dtype=float32)"
      ]
     },
     "execution_count": 6,
     "metadata": {},
     "output_type": "execute_result"
    }
   ],
   "source": [
    "embeddings[0][:50]"
   ]
  },
  {
   "cell_type": "code",
   "execution_count": 8,
   "id": "d6472de1-a319-4a33-80e8-d5c86c8d975b",
   "metadata": {},
   "outputs": [],
   "source": [
    "#embeddings.tofile('headlines_chicagotribune_2024-12-01.npy') # this doesn't save the dimensions??? :("
   ]
  },
  {
   "cell_type": "code",
   "execution_count": 7,
   "id": "16976cd8-b6f0-4425-a351-7312f1bd1d47",
   "metadata": {},
   "outputs": [],
   "source": [
    "np.save('headlines_chicagotribune_2025-01-16.npy', embeddings)"
   ]
  },
  {
   "cell_type": "code",
   "execution_count": null,
   "id": "8b203aa3-3024-4dc0-8b40-5e5b01709f4b",
   "metadata": {},
   "outputs": [],
   "source": []
  }
 ],
 "metadata": {
  "kernelspec": {
   "display_name": "nlp",
   "language": "python",
   "name": "nlp"
  },
  "language_info": {
   "codemirror_mode": {
    "name": "ipython",
    "version": 3
   },
   "file_extension": ".py",
   "mimetype": "text/x-python",
   "name": "python",
   "nbconvert_exporter": "python",
   "pygments_lexer": "ipython3",
   "version": "3.10.16"
  }
 },
 "nbformat": 4,
 "nbformat_minor": 5
}
